{
 "cells": [
  {
   "cell_type": "code",
   "execution_count": 1,
   "id": "b736308c",
   "metadata": {},
   "outputs": [],
   "source": [
    "from string import punctuation\n",
    "from collections import Counter\n",
    "from heapq import nlargest\n",
    "import pathlib\n",
    "import spacy\n",
    "from spacy.lang.en.stop_words import STOP_WORDS"
   ]
  },
  {
   "cell_type": "markdown",
   "id": "2b4e9214",
   "metadata": {},
   "source": [
    "---"
   ]
  },
  {
   "cell_type": "markdown",
   "id": "bfdc1cef",
   "metadata": {},
   "source": [
    "This notebook helps one to analyze a text document and have an idea about the topic."
   ]
  },
  {
   "cell_type": "markdown",
   "id": "60c2cd6b",
   "metadata": {},
   "source": [
    "----"
   ]
  },
  {
   "cell_type": "markdown",
   "id": "7202c76c",
   "metadata": {},
   "source": [
    "### Read and tokenize document"
   ]
  },
  {
   "cell_type": "code",
   "execution_count": 2,
   "id": "8d599771",
   "metadata": {},
   "outputs": [],
   "source": [
    "\"\"\"\n",
    "This cell:\n",
    "    initiates an nlp model\n",
    "    reads doc from a file\n",
    "    inputs the document to the model    \n",
    "\"\"\"\n",
    "nlp = spacy.load('en')\n",
    "file_name = \"doc.txt\"\n",
    "doc = nlp(pathlib.Path(file_name).read_text(encoding=\"utf-8\"))"
   ]
  },
  {
   "cell_type": "markdown",
   "id": "3f7ab3ab",
   "metadata": {},
   "source": [
    "### Preprocessing"
   ]
  },
  {
   "cell_type": "code",
   "execution_count": 3,
   "id": "fdd096e0",
   "metadata": {},
   "outputs": [],
   "source": [
    "\"\"\"\n",
    "This cell:\n",
    "    removes stopwords\n",
    "    filters certain words based on their POS\n",
    "    appends their lemmatized versions in a list\n",
    "\"\"\"\n",
    "\n",
    "keyword = []\n",
    "pos_tag = ['PROPN', 'ADJ', 'NOUN', 'VERB']\n",
    "\n",
    "for token in doc:  \n",
    "    if (token.text in STOP_WORDS or token.text in punctuation or token.text == \"|\"):\n",
    "        continue\n",
    "    if (token.pos_ in pos_tag):\n",
    "        keyword.append(token.lemma_)"
   ]
  },
  {
   "cell_type": "markdown",
   "id": "afde6e02",
   "metadata": {},
   "source": [
    "### Most Common 20 keywords"
   ]
  },
  {
   "cell_type": "code",
   "execution_count": 4,
   "id": "eb698427",
   "metadata": {},
   "outputs": [
    {
     "data": {
      "text/plain": [
       "[('water', 1.0),\n",
       " ('cool', 0.28),\n",
       " ('site', 0.28),\n",
       " ('reuse', 0.24),\n",
       " ('wastewater', 0.24),\n",
       " ('treatment', 0.24),\n",
       " ('clean', 0.2),\n",
       " ('facility', 0.2),\n",
       " ('plant', 0.16),\n",
       " ('process', 0.16),\n",
       " ('treat', 0.16),\n",
       " ('instal', 0.12),\n",
       " ('kao', 0.12),\n",
       " ('product', 0.12),\n",
       " ('new', 0.12),\n",
       " ('production', 0.12),\n",
       " ('implement', 0.08),\n",
       " ('technology', 0.08),\n",
       " ('example', 0.08),\n",
       " ('chiller', 0.08)]"
      ]
     },
     "execution_count": 4,
     "metadata": {},
     "output_type": "execute_result"
    }
   ],
   "source": [
    "\"\"\"\n",
    "This cell:\n",
    "    counts keywords' frequencies\n",
    "    prints most common 20 keywords and their normalized frequencies\n",
    "\"\"\"    \n",
    "freq_word = Counter(keyword)\n",
    "max_freq = Counter(keyword).most_common(1)[0][1]\n",
    "\n",
    "for word in freq_word.keys():\n",
    "    freq_word[word] = (freq_word[word]/max_freq)\n",
    "freq_word.most_common(20)"
   ]
  },
  {
   "cell_type": "markdown",
   "id": "f6fdc158",
   "metadata": {},
   "source": [
    "### 5 Most Strengthful Sentences"
   ]
  },
  {
   "cell_type": "code",
   "execution_count": 5,
   "id": "a444a7bc",
   "metadata": {},
   "outputs": [
    {
     "name": "stdout",
     "output_type": "stream",
     "text": [
      "| This concept requires all the water necessary for production processes (cleaning equipment   producing steam etc) to be entirely derived from water recycled in a loop on site  with no water sourced from public water supplies. \n",
      "\n",
      "Kao Vietnam Introduced a spray technique for washing and sanitizing tanks  resulting in reducing its use of water and steam Kao Industrial (Thailand) Returns cooling water overflow to a cooling water pool to help eliminate unnecessary water consumption Quimi -Kao  S.A. de C .V. \n",
      "\n",
      "The plant has also implemented other water saving technologies that allow it to reuse condensate water in the cooling towers  ultrasonic cleaning in the canteen  and reusing wastewater instead of withdrawing more city water. \n",
      "\n",
      "| Several wastewater treatment approaches are being implemented at our site in Maribor   including using treated rainwater to clean our machines and containers  as well as using river water that has been softened to cool down water samples taken from our boiler. \n",
      "\n",
      "| Currently  a new wastewater treatment facility is being installed in Bogotá  which will increase the treatment capacity at our site from 30 up to 50 cubic meters of water per day  while also enabling us to recover 90 percent of the treated wastewater to be reused for other processes such as for our boiler and cooling system or for sanitary purposes. \n",
      "\n"
     ]
    }
   ],
   "source": [
    "\"\"\"\n",
    "This cell:\n",
    "    calculates the strength of senteces by adding on keywords' normalized frequencies\n",
    "    prints 5 top strength senteces\n",
    "\"\"\"\n",
    "sent_strength = {}\n",
    "for sent in doc.sents:\n",
    "    for word in sent:\n",
    "        if word.text in freq_word.keys():\n",
    "            if sent in sent_strength.keys():\n",
    "                sent_strength[sent]+= freq_word[word.text]\n",
    "            else:\n",
    "                sent_strength[sent]=freq_word[word.text]\n",
    "for sent in nlargest(5, sent_strength,key=sent_strength.get):\n",
    "    print(sent,\"\\n\")"
   ]
  }
 ],
 "metadata": {
  "kernelspec": {
   "display_name": "Python 3 (ipykernel)",
   "language": "python",
   "name": "python3"
  },
  "language_info": {
   "codemirror_mode": {
    "name": "ipython",
    "version": 3
   },
   "file_extension": ".py",
   "mimetype": "text/x-python",
   "name": "python",
   "nbconvert_exporter": "python",
   "pygments_lexer": "ipython3",
   "version": "3.7.11"
  }
 },
 "nbformat": 4,
 "nbformat_minor": 5
}
